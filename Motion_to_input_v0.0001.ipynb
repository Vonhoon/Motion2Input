{
 "cells": [
  {
   "cell_type": "markdown",
   "metadata": {
    "id": "6syB5sK0zUry"
   },
   "source": [
    "# Default import & settings *infer\n",
    "기존 학습된 모델로 추론만 하려면 *infer 항목만 실행하세요~"
   ]
  },
  {
   "cell_type": "code",
   "execution_count": 1,
   "metadata": {
    "scrolled": true
   },
   "outputs": [
    {
     "name": "stderr",
     "output_type": "stream",
     "text": [
      "D:\\Anaconda\\lib\\site-packages\\numpy\\core\\__init__.py:29: UserWarning: loaded more than 1 DLL from .libs:\n",
      "D:\\Anaconda\\lib\\site-packages\\numpy\\.libs\\libopenblas.NOIJJG62EMASZI6NYURL6JBKM4EVBGM7.gfortran-win_amd64.dll\n",
      "D:\\Anaconda\\lib\\site-packages\\numpy\\.libs\\libopenblas.PYQHXLVVQ7VESDPUVUADXEVJOBGHJPAY.gfortran-win_amd64.dll\n",
      "  stacklevel=1)\n"
     ]
    }
   ],
   "source": [
    "import os\n",
    "from glob import glob\n",
    "import tensorflow as tf\n",
    "from tensorflow.keras import layers\n",
    "from tensorflow.keras import datasets \n",
    "from tensorflow.keras import optimizers\n",
    "from tensorflow.keras.applications.mobilenet_v2 import MobileNetV2, preprocess_input\n",
    "from tensorflow.keras.layers import Input, Conv2D, ReLU, Conv2DTranspose, MaxPooling2D, Dense, BatchNormalization, GlobalAveragePooling2D, Concatenate\n",
    "from PIL import Image\n",
    "import numpy as np\n",
    "import pandas as pd\n",
    "import pickle\n",
    "import math\n",
    "import cv2 as cv\n",
    "from ctypes import windll\n",
    "import matplotlib.pyplot as plt\n",
    "\n",
    "%matplotlib inline"
   ]
  },
  {
   "cell_type": "code",
   "execution_count": 2,
   "metadata": {},
   "outputs": [],
   "source": [
    "# create new model, load model 모델 번호 부여\n",
    "modelnumber = 1\n",
    "main_path = os.path.join('model{}/'.format(modelnumber))\n",
    "os.makedirs(main_path, exist_ok=True)\n"
   ]
  },
  {
   "cell_type": "code",
   "execution_count": 3,
   "metadata": {},
   "outputs": [],
   "source": [
    "def char2key(c):\n",
    "    # https://msdn.microsoft.com/en-us/library/windows/desktop/ms646329(v=vs.85).aspx\n",
    "    result = windll.User32.VkKeyScanW(ord(c))\n",
    "    shift_state = (result & 0xFF00) >> 8\n",
    "    vk_key = result & 0xFF\n",
    "\n",
    "    return vk_key\n",
    "\n",
    "def checkindex(k):\n",
    "    try:        \n",
    "        trainpath = glob(main_path + 'train/' + k + '/' + \"*.jpg\")\n",
    "        testpath = glob(main_path + 'test/' + k + '/' + \"*.jpg\")\n",
    "        trainlist = [os.path.basename(trainpath[i]) for i in range(len(trainpath))]\n",
    "        trainnum = [int(trainlist[i].replace('.jpg','')) for i in range(len(trainlist))]\n",
    "        testlist = [os.path.basename(testpath[i]) for i in range(len(testpath))]\n",
    "        testnum = [int(testlist[i].replace('.jpg','')) for i in range(len(testlist))]\n",
    "        trainsort = sorted(trainnum)\n",
    "        testsort = sorted(testnum)\n",
    "        if trainsort[-1] >= testsort[-1]:\n",
    "            lastindex = trainsort[-1]\n",
    "        else:\n",
    "            lastindex = testsort[-1]\n",
    "    except:\n",
    "        lastindex = 0\n",
    "    return lastindex\n",
    "\n",
    "\n",
    "def take_snap(event, x, y, flags, param):  \n",
    "    global img_counter\n",
    "    if event == cv.EVENT_LBUTTONDOWN:        \n",
    "        if (img_counter % 5 == 0):\n",
    "            img_name = os.path.join(main_path + 'test/' + class_name + '/') + \"{}.jpg\".format(img_counter)\n",
    "        else:\n",
    "            img_name = os.path.join(main_path + 'train/' + class_name + '/') + \"{}.jpg\".format(img_counter)\n",
    "        os.makedirs(os.path.dirname(img_name), exist_ok=True)\n",
    "        cv.imwrite(img_name, new_frame)  \n",
    "        img_counter = img_counter + 1        \n",
    "    "
   ]
  },
  {
   "cell_type": "markdown",
   "metadata": {},
   "source": [
    "# Make train data - Record your motions/poses\n",
    "#### 할당 원하는 키를 누르고 클릭 시 연사\n",
    "#### 아무것도 안하고 있는 포즈 클래스를 만들어두는 것이 좋음.\n",
    "#### 포즈는 준비동작 혹은 움직임이 겹치지 않는 것으로 하는 것이 좋음.\n",
    "#### '/' 를 idle (아무것도 안할때)로 설정"
   ]
  },
  {
   "cell_type": "code",
   "execution_count": 8,
   "metadata": {
    "scrolled": true
   },
   "outputs": [
    {
     "name": "stdout",
     "output_type": "stream",
     "text": [
      "Escape hit, closing...\n"
     ]
    }
   ],
   "source": [
    "cam = cv.VideoCapture(0)\n",
    "\n",
    "cv.namedWindow(\"train\")\n",
    "\n",
    "img_counter = 0\n",
    "\n",
    "selectedkey = 'none'\n",
    "\n",
    "while True:\n",
    "    ret, frame = cam.read()    \n",
    "    \n",
    "    # 이미지 뒤집기\n",
    "    frame_flipped = cv.flip(frame, 1)\n",
    "    new_frame = frame_flipped.copy()\n",
    "    if not ret:\n",
    "        print(\"failed to grab frame\")\n",
    "        break\n",
    "    cv.putText(frame_flipped,\"* Selected Key: \" + selectedkey + \"         * saved images: \" + str(img_counter) + \"     model number: \" + str(modelnumber), (10, 450), cv.FONT_HERSHEY_SIMPLEX, 0.5, (255, 255, 255))\n",
    "    cv.imshow(\"train\", frame_flipped)\n",
    "    \n",
    "    k = cv.waitKey(1)\n",
    "    if k%256 == 27:\n",
    "        # ESC pressed\n",
    "        print(\"Escape hit, closing...\")\n",
    "        break\n",
    "    elif k == -1:\n",
    "        continue\n",
    "\n",
    "    else:        \n",
    "        selectedkey = chr(k)\n",
    "        class_name = str(char2key(selectedkey))\n",
    "        img_counter = checkindex(str(class_name))\n",
    "        if selectedkey != 'none':\n",
    "            cv.setMouseCallback(\"train\", take_snap)                            \n",
    "                \n",
    "            \n",
    "            \n",
    "cam.release()\n",
    "\n",
    "cv.destroyAllWindows()"
   ]
  },
  {
   "cell_type": "markdown",
   "metadata": {},
   "source": [
    "# Prep for Data process *infer"
   ]
  },
  {
   "cell_type": "code",
   "execution_count": 9,
   "metadata": {},
   "outputs": [],
   "source": [
    "datapath = glob(main_path + 'train/*/*.jpg')\n",
    "testpath = glob(main_path + 'test/*/*.jpg')\n",
    "\n",
    "def get_label(path):\n",
    "    classname = path.split('\\\\')[-2]\n",
    "    return classname\n",
    "\n",
    "def onehot_encoding(label):\n",
    "    return np.array(label == classlist, np.uint8)\n",
    "\n",
    "def load_data(path, label):\n",
    "    cast = tf.cast(path, tf.float32)\n",
    "    return cast, label"
   ]
  },
  {
   "cell_type": "code",
   "execution_count": 10,
   "metadata": {},
   "outputs": [],
   "source": [
    "classes = [get_label(path) for path in datapath]\n",
    "test_classes = [get_label(path) for path in testpath]\n",
    "classlist = np.unique(classes)\n",
    "test_classlist = np.unique(test_classes)\n",
    "num_class = len(classlist)\n",
    "#onehot encode labels\n",
    "labels = [onehot_encoding(classname) for classname in classes]\n",
    "test_labels = [onehot_encoding(classname) for classname in test_classes]\n",
    "# create list for input side\n",
    "pclasslist = os.listdir(main_path + 'train')\n",
    "#figure out which class is idle\n",
    "# change '191' to whatever key you'd want for idle later or it will be updated when I get a UI up.\n",
    "idle = [idx for idx, s in enumerate(classlist) if '191' in s][0]\n",
    "# define second key - when I get a UI will add in second and more key presses\n",
    "secondkey = [None] * len(pclasslist)\n",
    "pred_classes = []\n",
    "for i in range(num_class):\n",
    "    templist = int(pclasslist[i]), secondkey[i]\n",
    "    pred_classes.append(templist)"
   ]
  },
  {
   "cell_type": "code",
   "execution_count": 11,
   "metadata": {},
   "outputs": [],
   "source": [
    "with open('mylist', 'wb') as f:\n",
    "     pickle.dump(pred_classes, f) \n",
    "with open('classlist', 'wb') as f1:\n",
    "    pickle.dump(classlist, f1)"
   ]
  },
  {
   "cell_type": "code",
   "execution_count": 12,
   "metadata": {},
   "outputs": [
    {
     "data": {
      "text/plain": [
       "array(['191', '65', '66'], dtype='<U3')"
      ]
     },
     "execution_count": 12,
     "metadata": {},
     "output_type": "execute_result"
    }
   ],
   "source": [
    "classlist\n"
   ]
  },
  {
   "cell_type": "code",
   "execution_count": 13,
   "metadata": {},
   "outputs": [],
   "source": [
    "with open('keyposelist', 'rb') as f:\n",
    "     pred_classes = pickle.load(f)\n",
    "with open('classlist', 'rb') as f1:\n",
    "     classlist = pickle.load(f1)"
   ]
  },
  {
   "cell_type": "markdown",
   "metadata": {},
   "source": [
    "# set up posenet *infer"
   ]
  },
  {
   "cell_type": "code",
   "execution_count": 14,
   "metadata": {},
   "outputs": [],
   "source": [
    "model_path = \"posenet_mobilenet_v1_100_257x257_multi_kpt_stripped.tflite\"\n",
    "interpreter = tf.lite.Interpreter(model_path=model_path)\n",
    "interpreter.allocate_tensors()\n",
    "input_details = interpreter.get_input_details()\n",
    "output_details = interpreter.get_output_details()\n",
    "\n",
    "height = input_details[0]['shape'][1]\n",
    "width = input_details[0]['shape'][2]\n",
    "\n",
    "def interpret(data):\n",
    "    template_image_src = cv.imread(data)\n",
    "    # src_tepml_width, src_templ_height, _ = template_image_src.shape \n",
    "    template_image = cv.resize(template_image_src, (width, height))\n",
    "    template_input = np.expand_dims(template_image.copy(), axis=0)\n",
    "    floating_model = input_details[0]['dtype'] == np.float32\n",
    "    if floating_model:\n",
    "      template_input = (np.float32(template_input) - 127.5) / 127.5\n",
    "      \n",
    "    interpreter.set_tensor(input_details[0]['index'], template_input)\n",
    "    # Runs the computation\n",
    "    interpreter.invoke()\n",
    "    # Extract output data from the interpreter\n",
    "    template_output_data = interpreter.get_tensor(output_details[0]['index'])\n",
    "    template_offset_data = interpreter.get_tensor(output_details[1]['index'])\n",
    "    template_offsets = np.squeeze(template_offset_data)\n",
    "    return template_offsets\n",
    "\n",
    "def prediction(data):\n",
    "    # src_tepml_width, src_templ_height, _ = template_image_src.shape \n",
    "    test_image = cv.resize(data, (width, height))\n",
    "    test_input = np.expand_dims(test_image.copy(), axis=0)\n",
    "    floating_model = input_details[0]['dtype'] == np.float32\n",
    "    if floating_model:\n",
    "        test_input = (np.float32(test_input) - 127.5) / 127.5\n",
    "    interpreter.set_tensor(input_details[0]['index'], test_input)\n",
    "    # Runs the computation   \n",
    "    interpreter.invoke()\n",
    "    \n",
    "    test_offset_data = interpreter.get_tensor(output_details[1]['index'])\n",
    "    #test_offsets = np.squeeze(test_offset_data)\n",
    "    # Extract output data from the interpreter\n",
    "    return test_offset_data"
   ]
  },
  {
   "cell_type": "markdown",
   "metadata": {},
   "source": [
    "# Create dataset"
   ]
  },
  {
   "cell_type": "code",
   "execution_count": 15,
   "metadata": {},
   "outputs": [],
   "source": [
    "# hyper parameter\n",
    "num_epochs = 50\n",
    "batch_size = 4\n",
    "\n",
    "learning_rate = 0.001\n",
    "\n",
    "dropout_rate = 0.5\n",
    "\n",
    "input_shape = (9, 9, 34)\n",
    "num_classes = num_class"
   ]
  },
  {
   "cell_type": "markdown",
   "metadata": {},
   "source": [
    "#### 데이터를 posenet에 돌린후 데이터셋으로 만들기"
   ]
  },
  {
   "cell_type": "code",
   "execution_count": 16,
   "metadata": {},
   "outputs": [],
   "source": [
    "interpreted = [interpret(data) for data in datapath]\n",
    "test_interpreted = [interpret(data) for data in testpath]\n",
    "\n",
    "AUTOTUNE = tf.data.experimental.AUTOTUNE\n",
    "dataset = tf.data.Dataset.from_tensor_slices((interpreted, labels))\n",
    "dataset = dataset.map(load_data, num_parallel_calls=AUTOTUNE)\n",
    "dataset = dataset.batch(batch_size)\n",
    "dataset = dataset.shuffle(buffer_size=len(datapath))\n",
    "dataset = dataset.repeat()\n",
    "\n",
    "test_dataset = tf.data.Dataset.from_tensor_slices((test_interpreted, test_labels))\n",
    "test_dataset = dataset.map(load_data, num_parallel_calls=AUTOTUNE)\n",
    "test_dataset = dataset.batch(batch_size)\n",
    "test_dataset = dataset.repeat()"
   ]
  },
  {
   "cell_type": "code",
   "execution_count": 17,
   "metadata": {},
   "outputs": [],
   "source": [
    "# set up classification model\n",
    "\n",
    "inputs = layers.Input(input_shape)\n",
    "net = layers.Conv2D(32, (3, 3), padding='SAME')(inputs)\n",
    "net = layers.Activation('relu')(net)\n",
    "net = layers.Conv2D(32, (3, 3), padding='SAME')(net)\n",
    "net = layers.Activation('relu')(net)\n",
    "net = layers.MaxPooling2D(pool_size=(2, 2))(net)\n",
    "net = layers.Dropout(dropout_rate)(net)\n",
    "\n",
    "net = layers.Flatten()(net)\n",
    "net = layers.Dense(128)(net)\n",
    "net = layers.Activation('relu')(net)\n",
    "net = layers.Dropout(dropout_rate)(net)\n",
    "net = layers.Dense(num_classes)(net)\n",
    "net = layers.Activation('softmax')(net)\n",
    "\n",
    "model = tf.keras.Model(inputs=inputs, outputs=net, name='CNN')\n",
    "\n",
    "model.compile(optimizer=tf.keras.optimizers.Adam(learning_rate),  # Optimization\n",
    "              loss='categorical_crossentropy',  # Loss Function \n",
    "              metrics=['accuracy'])  # Metrics / Accuracy"
   ]
  },
  {
   "cell_type": "markdown",
   "metadata": {},
   "source": [
    "## Train"
   ]
  },
  {
   "cell_type": "code",
   "execution_count": 18,
   "metadata": {
    "scrolled": true
   },
   "outputs": [
    {
     "name": "stdout",
     "output_type": "stream",
     "text": [
      "WARNING:tensorflow:From <ipython-input-18-1e11afb8ff8b>:10: Model.fit_generator (from tensorflow.python.keras.engine.training) is deprecated and will be removed in a future version.\n",
      "Instructions for updating:\n",
      "Please use Model.fit, which supports generators.\n",
      "Epoch 1/50\n",
      "30/30 [==============================] - 0s 7ms/step - loss: 6.4248 - accuracy: 0.6186 - val_loss: 0.3605 - val_accuracy: 0.8929\n",
      "Epoch 2/50\n",
      "30/30 [==============================] - 0s 3ms/step - loss: 1.7446 - accuracy: 0.7797 - val_loss: 6.7011e-06 - val_accuracy: 1.0000\n",
      "Epoch 3/50\n",
      "30/30 [==============================] - 0s 3ms/step - loss: 0.2914 - accuracy: 0.9237 - val_loss: 4.0792e-04 - val_accuracy: 1.0000\n",
      "Epoch 4/50\n",
      "30/30 [==============================] - 0s 3ms/step - loss: 0.1559 - accuracy: 0.9576 - val_loss: 9.3264e-05 - val_accuracy: 1.0000\n",
      "Epoch 5/50\n",
      "30/30 [==============================] - 0s 2ms/step - loss: 0.2034 - accuracy: 0.9492 - val_loss: 1.5132e-04 - val_accuracy: 1.0000\n",
      "Epoch 6/50\n",
      "30/30 [==============================] - 0s 3ms/step - loss: 0.0519 - accuracy: 0.9915 - val_loss: 3.4485e-06 - val_accuracy: 1.0000\n",
      "Epoch 7/50\n",
      "30/30 [==============================] - 0s 3ms/step - loss: 0.0286 - accuracy: 0.9833 - val_loss: 6.6293e-06 - val_accuracy: 1.0000\n",
      "Epoch 8/50\n",
      "30/30 [==============================] - 0s 3ms/step - loss: 0.0074 - accuracy: 1.0000 - val_loss: 2.1176e-05 - val_accuracy: 1.0000\n",
      "Epoch 9/50\n",
      "30/30 [==============================] - 0s 3ms/step - loss: 0.0451 - accuracy: 0.9833 - val_loss: 4.2272e-06 - val_accuracy: 1.0000\n",
      "Epoch 10/50\n",
      "30/30 [==============================] - 0s 3ms/step - loss: 0.0054 - accuracy: 1.0000 - val_loss: 5.2367e-07 - val_accuracy: 1.0000\n",
      "Epoch 11/50\n",
      "30/30 [==============================] - 0s 2ms/step - loss: 0.0024 - accuracy: 1.0000 - val_loss: 1.8340e-07 - val_accuracy: 1.0000\n",
      "Epoch 12/50\n",
      "30/30 [==============================] - 0s 2ms/step - loss: 7.3377e-04 - accuracy: 1.0000 - val_loss: 1.7030e-08 - val_accuracy: 1.0000\n",
      "Epoch 13/50\n",
      "30/30 [==============================] - 0s 2ms/step - loss: 0.0788 - accuracy: 0.9828 - val_loss: 2.1287e-08 - val_accuracy: 1.0000\n",
      "Epoch 14/50\n",
      "30/30 [==============================] - 0s 2ms/step - loss: 0.0279 - accuracy: 0.9833 - val_loss: 3.0781e-06 - val_accuracy: 1.0000\n",
      "Epoch 15/50\n",
      "30/30 [==============================] - 0s 2ms/step - loss: 0.0054 - accuracy: 1.0000 - val_loss: 3.8317e-08 - val_accuracy: 1.0000\n",
      "Epoch 16/50\n",
      "30/30 [==============================] - 0s 2ms/step - loss: 0.0306 - accuracy: 0.9915 - val_loss: 1.4964e-04 - val_accuracy: 1.0000\n",
      "Epoch 17/50\n",
      "30/30 [==============================] - 0s 2ms/step - loss: 0.0068 - accuracy: 0.9915 - val_loss: 1.0644e-07 - val_accuracy: 1.0000\n",
      "Epoch 18/50\n",
      "30/30 [==============================] - 0s 2ms/step - loss: 0.0076 - accuracy: 0.9915 - val_loss: 3.4798e-06 - val_accuracy: 1.0000\n",
      "Epoch 19/50\n",
      "30/30 [==============================] - 0s 2ms/step - loss: 0.0029 - accuracy: 1.0000 - val_loss: 1.3755e-08 - val_accuracy: 1.0000\n",
      "Epoch 20/50\n",
      "30/30 [==============================] - 0s 2ms/step - loss: 0.0478 - accuracy: 0.9914 - val_loss: 9.1699e-09 - val_accuracy: 1.0000\n",
      "Epoch 21/50\n",
      "30/30 [==============================] - 0s 2ms/step - loss: 0.0084 - accuracy: 0.9917 - val_loss: 1.7030e-08 - val_accuracy: 1.0000\n",
      "Epoch 22/50\n",
      "30/30 [==============================] - 0s 3ms/step - loss: 6.6884e-04 - accuracy: 1.0000 - val_loss: 0.0000e+00 - val_accuracy: 1.0000\n",
      "Epoch 23/50\n",
      "30/30 [==============================] - 0s 2ms/step - loss: 0.0012 - accuracy: 1.0000 - val_loss: 4.2575e-09 - val_accuracy: 1.0000\n",
      "Epoch 24/50\n",
      "30/30 [==============================] - 0s 2ms/step - loss: 2.0617e-04 - accuracy: 1.0000 - val_loss: 4.5850e-09 - val_accuracy: 1.0000\n",
      "Epoch 25/50\n",
      "30/30 [==============================] - 0s 2ms/step - loss: 0.0068 - accuracy: 1.0000 - val_loss: 0.0000e+00 - val_accuracy: 1.0000\n",
      "Epoch 26/50\n",
      "30/30 [==============================] - 0s 2ms/step - loss: 0.0380 - accuracy: 0.9914 - val_loss: 2.9802e-08 - val_accuracy: 1.0000\n",
      "Epoch 27/50\n",
      "30/30 [==============================] - 0s 2ms/step - loss: 0.0028 - accuracy: 1.0000 - val_loss: 2.1287e-08 - val_accuracy: 1.0000\n",
      "Epoch 28/50\n",
      "30/30 [==============================] - 0s 2ms/step - loss: 0.0036 - accuracy: 1.0000 - val_loss: 4.2575e-09 - val_accuracy: 1.0000\n",
      "Epoch 29/50\n",
      "30/30 [==============================] - 0s 2ms/step - loss: 0.0693 - accuracy: 0.9831 - val_loss: 0.0000e+00 - val_accuracy: 1.0000\n",
      "Epoch 30/50\n",
      "30/30 [==============================] - 0s 2ms/step - loss: 0.0224 - accuracy: 0.9915 - val_loss: 1.7030e-08 - val_accuracy: 1.0000\n",
      "Epoch 31/50\n",
      "30/30 [==============================] - 0s 3ms/step - loss: 1.4055e-04 - accuracy: 1.0000 - val_loss: 0.0000e+00 - val_accuracy: 1.0000\n",
      "Epoch 32/50\n",
      "30/30 [==============================] - 0s 2ms/step - loss: 0.0136 - accuracy: 0.9915 - val_loss: 8.5149e-09 - val_accuracy: 1.0000\n",
      "Epoch 33/50\n",
      "30/30 [==============================] - 0s 3ms/step - loss: 0.0019 - accuracy: 1.0000 - val_loss: 0.0000e+00 - val_accuracy: 1.0000\n",
      "Epoch 34/50\n",
      "30/30 [==============================] - 0s 2ms/step - loss: 2.3388e-04 - accuracy: 1.0000 - val_loss: 0.0000e+00 - val_accuracy: 1.0000\n",
      "Epoch 35/50\n",
      "30/30 [==============================] - 0s 2ms/step - loss: 4.6911e-05 - accuracy: 1.0000 - val_loss: 0.0000e+00 - val_accuracy: 1.0000\n",
      "Epoch 36/50\n",
      "30/30 [==============================] - 0s 3ms/step - loss: 0.0474 - accuracy: 0.9831 - val_loss: 0.0000e+00 - val_accuracy: 1.0000\n",
      "Epoch 37/50\n",
      "30/30 [==============================] - 0s 3ms/step - loss: 0.1529 - accuracy: 0.9667 - val_loss: 5.1090e-08 - val_accuracy: 1.0000\n",
      "Epoch 38/50\n",
      "30/30 [==============================] - 0s 2ms/step - loss: 0.4016 - accuracy: 0.9310 - val_loss: 1.1424e-04 - val_accuracy: 1.0000\n",
      "Epoch 39/50\n",
      "30/30 [==============================] - 0s 2ms/step - loss: 0.4184 - accuracy: 0.9661 - val_loss: 7.1951e-07 - val_accuracy: 1.0000\n",
      "Epoch 40/50\n",
      "30/30 [==============================] - 0s 2ms/step - loss: 0.1461 - accuracy: 0.9583 - val_loss: 8.1011e-06 - val_accuracy: 1.0000\n",
      "Epoch 41/50\n",
      "30/30 [==============================] - 0s 3ms/step - loss: 0.0034 - accuracy: 1.0000 - val_loss: 4.2104e-06 - val_accuracy: 1.0000\n",
      "Epoch 42/50\n",
      "30/30 [==============================] - 0s 2ms/step - loss: 0.0179 - accuracy: 0.9917 - val_loss: 0.0000e+00 - val_accuracy: 1.0000\n",
      "Epoch 43/50\n",
      "30/30 [==============================] - 0s 3ms/step - loss: 1.1805e-04 - accuracy: 1.0000 - val_loss: 0.0000e+00 - val_accuracy: 1.0000\n",
      "Epoch 44/50\n",
      "30/30 [==============================] - 0s 2ms/step - loss: 3.6127e-06 - accuracy: 1.0000 - val_loss: 0.0000e+00 - val_accuracy: 1.0000\n",
      "Epoch 45/50\n",
      "30/30 [==============================] - 0s 2ms/step - loss: 0.0242 - accuracy: 0.9914 - val_loss: 0.0000e+00 - val_accuracy: 1.0000\n",
      "Epoch 46/50\n",
      "30/30 [==============================] - 0s 2ms/step - loss: 0.0811 - accuracy: 0.9833 - val_loss: 0.0000e+00 - val_accuracy: 1.0000\n",
      "Epoch 47/50\n",
      "30/30 [==============================] - 0s 2ms/step - loss: 0.0011 - accuracy: 1.0000 - val_loss: 9.7922e-08 - val_accuracy: 1.0000\n",
      "Epoch 48/50\n",
      "30/30 [==============================] - 0s 2ms/step - loss: 0.0415 - accuracy: 0.9915 - val_loss: 0.0000e+00 - val_accuracy: 1.0000\n",
      "Epoch 49/50\n",
      "30/30 [==============================] - 0s 3ms/step - loss: 1.3441e-04 - accuracy: 1.0000 - val_loss: 0.0000e+00 - val_accuracy: 1.0000\n",
      "Epoch 50/50\n",
      "30/30 [==============================] - 0s 3ms/step - loss: 3.8946e-06 - accuracy: 1.0000 - val_loss: 0.0000e+00 - val_accuracy: 1.0000\n"
     ]
    },
    {
     "data": {
      "text/plain": [
       "<tensorflow.python.keras.callbacks.History at 0x1b2791de400>"
      ]
     },
     "execution_count": 18,
     "metadata": {},
     "output_type": "execute_result"
    }
   ],
   "source": [
    "steps_per_epoch = len(datapath) // batch_size\n",
    "validation_steps = len(testpath) // batch_size\n",
    "\n",
    "steps_per_epoch, validation_steps\n",
    "model.fit_generator(\n",
    "    dataset,\n",
    "    steps_per_epoch=steps_per_epoch,\n",
    "    validation_data=test_dataset,\n",
    "    validation_steps=validation_steps,\n",
    "    epochs=num_epochs)"
   ]
  },
  {
   "cell_type": "markdown",
   "metadata": {},
   "source": [
    "## load your pretrained model (skip if first time.)*infer"
   ]
  },
  {
   "cell_type": "code",
   "execution_count": 7,
   "metadata": {},
   "outputs": [
    {
     "ename": "OSError",
     "evalue": "SavedModel file does not exist at: model2/posenettocnn2/{saved_model.pbtxt|saved_model.pb}",
     "output_type": "error",
     "traceback": [
      "\u001b[1;31m---------------------------------------------------------------------------\u001b[0m",
      "\u001b[1;31mOSError\u001b[0m                                   Traceback (most recent call last)",
      "\u001b[1;32m<ipython-input-7-ee17c5b63571>\u001b[0m in \u001b[0;36m<module>\u001b[1;34m\u001b[0m\n\u001b[1;32m----> 1\u001b[1;33m \u001b[0mmodel\u001b[0m \u001b[1;33m=\u001b[0m \u001b[0mtf\u001b[0m\u001b[1;33m.\u001b[0m\u001b[0mkeras\u001b[0m\u001b[1;33m.\u001b[0m\u001b[0mmodels\u001b[0m\u001b[1;33m.\u001b[0m\u001b[0mload_model\u001b[0m\u001b[1;33m(\u001b[0m\u001b[0mos\u001b[0m\u001b[1;33m.\u001b[0m\u001b[0mpath\u001b[0m\u001b[1;33m.\u001b[0m\u001b[0mjoin\u001b[0m\u001b[1;33m(\u001b[0m\u001b[0mmain_path\u001b[0m \u001b[1;33m+\u001b[0m \u001b[1;34m'posenettocnn2'\u001b[0m\u001b[1;33m)\u001b[0m\u001b[1;33m)\u001b[0m\u001b[1;33m\u001b[0m\u001b[0m\n\u001b[0m",
      "\u001b[1;32mD:\\Anaconda\\lib\\site-packages\\tensorflow\\python\\keras\\saving\\save.py\u001b[0m in \u001b[0;36mload_model\u001b[1;34m(filepath, custom_objects, compile, options)\u001b[0m\n\u001b[0;32m    184\u001b[0m     \u001b[0mfilepath\u001b[0m \u001b[1;33m=\u001b[0m \u001b[0mpath_to_string\u001b[0m\u001b[1;33m(\u001b[0m\u001b[0mfilepath\u001b[0m\u001b[1;33m)\u001b[0m\u001b[1;33m\u001b[0m\u001b[0m\n\u001b[0;32m    185\u001b[0m     \u001b[1;32mif\u001b[0m \u001b[0misinstance\u001b[0m\u001b[1;33m(\u001b[0m\u001b[0mfilepath\u001b[0m\u001b[1;33m,\u001b[0m \u001b[0msix\u001b[0m\u001b[1;33m.\u001b[0m\u001b[0mstring_types\u001b[0m\u001b[1;33m)\u001b[0m\u001b[1;33m:\u001b[0m\u001b[1;33m\u001b[0m\u001b[0m\n\u001b[1;32m--> 186\u001b[1;33m       \u001b[0mloader_impl\u001b[0m\u001b[1;33m.\u001b[0m\u001b[0mparse_saved_model\u001b[0m\u001b[1;33m(\u001b[0m\u001b[0mfilepath\u001b[0m\u001b[1;33m)\u001b[0m\u001b[1;33m\u001b[0m\u001b[0m\n\u001b[0m\u001b[0;32m    187\u001b[0m       \u001b[1;32mreturn\u001b[0m \u001b[0msaved_model_load\u001b[0m\u001b[1;33m.\u001b[0m\u001b[0mload\u001b[0m\u001b[1;33m(\u001b[0m\u001b[0mfilepath\u001b[0m\u001b[1;33m,\u001b[0m \u001b[0mcompile\u001b[0m\u001b[1;33m,\u001b[0m \u001b[0moptions\u001b[0m\u001b[1;33m)\u001b[0m\u001b[1;33m\u001b[0m\u001b[0m\n\u001b[0;32m    188\u001b[0m \u001b[1;33m\u001b[0m\u001b[0m\n",
      "\u001b[1;32mD:\\Anaconda\\lib\\site-packages\\tensorflow\\python\\saved_model\\loader_impl.py\u001b[0m in \u001b[0;36mparse_saved_model\u001b[1;34m(export_dir)\u001b[0m\n\u001b[0;32m    111\u001b[0m                   (export_dir,\n\u001b[0;32m    112\u001b[0m                    \u001b[0mconstants\u001b[0m\u001b[1;33m.\u001b[0m\u001b[0mSAVED_MODEL_FILENAME_PBTXT\u001b[0m\u001b[1;33m,\u001b[0m\u001b[1;33m\u001b[0m\u001b[0m\n\u001b[1;32m--> 113\u001b[1;33m                    constants.SAVED_MODEL_FILENAME_PB))\n\u001b[0m\u001b[0;32m    114\u001b[0m \u001b[1;33m\u001b[0m\u001b[0m\n\u001b[0;32m    115\u001b[0m \u001b[1;33m\u001b[0m\u001b[0m\n",
      "\u001b[1;31mOSError\u001b[0m: SavedModel file does not exist at: model2/posenettocnn2/{saved_model.pbtxt|saved_model.pb}"
     ]
    }
   ],
   "source": [
    "model = tf.keras.models.load_model(os.path.join(main_path + 'posenettocnn2'))"
   ]
  },
  {
   "cell_type": "code",
   "execution_count": 141,
   "metadata": {},
   "outputs": [
    {
     "name": "stdout",
     "output_type": "stream",
     "text": [
      "Model: \"Basic_CNN\"\n",
      "_________________________________________________________________\n",
      "Layer (type)                 Output Shape              Param #   \n",
      "=================================================================\n",
      "input_1 (InputLayer)         [(None, 9, 9, 34)]        0         \n",
      "_________________________________________________________________\n",
      "conv2d (Conv2D)              (None, 9, 9, 32)          9824      \n",
      "_________________________________________________________________\n",
      "activation (Activation)      (None, 9, 9, 32)          0         \n",
      "_________________________________________________________________\n",
      "conv2d_1 (Conv2D)            (None, 9, 9, 32)          9248      \n",
      "_________________________________________________________________\n",
      "activation_1 (Activation)    (None, 9, 9, 32)          0         \n",
      "_________________________________________________________________\n",
      "max_pooling2d (MaxPooling2D) (None, 4, 4, 32)          0         \n",
      "_________________________________________________________________\n",
      "dropout (Dropout)            (None, 4, 4, 32)          0         \n",
      "_________________________________________________________________\n",
      "conv2d_2 (Conv2D)            (None, 4, 4, 64)          18496     \n",
      "_________________________________________________________________\n",
      "activation_2 (Activation)    (None, 4, 4, 64)          0         \n",
      "_________________________________________________________________\n",
      "conv2d_3 (Conv2D)            (None, 4, 4, 64)          36928     \n",
      "_________________________________________________________________\n",
      "activation_3 (Activation)    (None, 4, 4, 64)          0         \n",
      "_________________________________________________________________\n",
      "max_pooling2d_1 (MaxPooling2 (None, 2, 2, 64)          0         \n",
      "_________________________________________________________________\n",
      "dropout_1 (Dropout)          (None, 2, 2, 64)          0         \n",
      "_________________________________________________________________\n",
      "flatten (Flatten)            (None, 256)               0         \n",
      "_________________________________________________________________\n",
      "dense (Dense)                (None, 512)               131584    \n",
      "_________________________________________________________________\n",
      "activation_4 (Activation)    (None, 512)               0         \n",
      "_________________________________________________________________\n",
      "dropout_2 (Dropout)          (None, 512)               0         \n",
      "_________________________________________________________________\n",
      "dense_1 (Dense)              (None, 9)                 4617      \n",
      "_________________________________________________________________\n",
      "activation_5 (Activation)    (None, 9)                 0         \n",
      "=================================================================\n",
      "Total params: 210,697\n",
      "Trainable params: 210,697\n",
      "Non-trainable params: 0\n",
      "_________________________________________________________________\n",
      "None\n"
     ]
    }
   ],
   "source": [
    "print(model.summary())"
   ]
  },
  {
   "cell_type": "markdown",
   "metadata": {},
   "source": [
    "# Save Model"
   ]
  },
  {
   "cell_type": "code",
   "execution_count": 16,
   "metadata": {
    "scrolled": true
   },
   "outputs": [
    {
     "name": "stdout",
     "output_type": "stream",
     "text": [
      "WARNING:tensorflow:From D:\\Anaconda\\lib\\site-packages\\tensorflow\\python\\training\\tracking\\tracking.py:111: Model.state_updates (from tensorflow.python.keras.engine.training) is deprecated and will be removed in a future version.\n",
      "Instructions for updating:\n",
      "This property should not be used in TensorFlow 2.0, as updates are applied automatically.\n",
      "WARNING:tensorflow:From D:\\Anaconda\\lib\\site-packages\\tensorflow\\python\\training\\tracking\\tracking.py:111: Layer.updates (from tensorflow.python.keras.engine.base_layer) is deprecated and will be removed in a future version.\n",
      "Instructions for updating:\n",
      "This property should not be used in TensorFlow 2.0, as updates are applied automatically.\n",
      "INFO:tensorflow:Assets written to: model2/posenettocnn_sm\\assets\n"
     ]
    }
   ],
   "source": [
    "model.save(os.path.join(main_path + 'posenettocnn_sm'))"
   ]
  },
  {
   "cell_type": "markdown",
   "metadata": {},
   "source": [
    "# Test with single Image"
   ]
  },
  {
   "cell_type": "code",
   "execution_count": 19,
   "metadata": {
    "scrolled": true
   },
   "outputs": [
    {
     "name": "stdout",
     "output_type": "stream",
     "text": [
      "[(191, None), (47, None), (81, None), (90, None)]\n",
      "[[0.00677992 0.96065044 0.0325696 ]]\n",
      "[1]\n"
     ]
    },
    {
     "data": {
      "image/png": "[encoded data removed]",
      "text/plain": [
       "<Figure size 432x288 with 1 Axes>"
      ]
     },
     "metadata": {
      "needs_background": "light"
     },
     "output_type": "display_data"
    }
   ],
   "source": [
    "# '43.jpg'를 동일폴더에 있는 다른 파일로 교체하면 됨.\n",
    "data = cv.imread('43.jpg')\n",
    "testimg_i = prediction(data)\n",
    "pred_class = model.predict(testimg_i)\n",
    "plt.imshow(cv.cvtColor(data, cv.COLOR_BGR2RGB))\n",
    "\n",
    "print(pred_classes)\n",
    "print(pred_class)\n",
    "print(np.argmax(pred_class, axis=-1))"
   ]
  },
  {
   "cell_type": "markdown",
   "metadata": {},
   "source": [
    "# Prep for motion prediction and converting to input *infer"
   ]
  },
  {
   "cell_type": "code",
   "execution_count": 20,
   "metadata": {},
   "outputs": [],
   "source": [
    "import ctypes\n",
    "from ctypes import wintypes\n",
    "import time\n",
    "user32 = ctypes.WinDLL('user32', use_last_error=True)\n",
    "INPUT_KEYBOARD = 1\n",
    "KEYEVENTF_EXTENDEDKEY = 0x0001\n",
    "KEYEVENTF_KEYUP       = 0x0002\n",
    "KEYEVENTF_UNICODE     = 0x0004\n",
    "MAPVK_VK_TO_VSC = 0\n",
    "# msdn.microsoft.com/en-us/library/dd375731\n",
    "wintypes.ULONG_PTR = wintypes.WPARAM\n",
    "class MOUSEINPUT(ctypes.Structure):\n",
    "    _fields_ = ((\"dx\",          wintypes.LONG),\n",
    "                (\"dy\",          wintypes.LONG),\n",
    "                (\"mouseData\",   wintypes.DWORD),\n",
    "                (\"dwFlags\",     wintypes.DWORD),\n",
    "                (\"time\",        wintypes.DWORD),\n",
    "                (\"dwExtraInfo\", wintypes.ULONG_PTR))\n",
    "class KEYBDINPUT(ctypes.Structure):\n",
    "    _fields_ = ((\"wVk\",         wintypes.WORD),\n",
    "                (\"wScan\",       wintypes.WORD),\n",
    "                (\"dwFlags\",     wintypes.DWORD),\n",
    "                (\"time\",        wintypes.DWORD),\n",
    "                (\"dwExtraInfo\", wintypes.ULONG_PTR))\n",
    "    def __init__(self, *args, **kwds):\n",
    "        super(KEYBDINPUT, self).__init__(*args, **kwds)\n",
    "        if not self.dwFlags & KEYEVENTF_UNICODE:\n",
    "            self.wScan = user32.MapVirtualKeyExW(self.wVk,\n",
    "                                                 MAPVK_VK_TO_VSC, 0)\n",
    "class HARDWAREINPUT(ctypes.Structure):\n",
    "    _fields_ = ((\"uMsg\",    wintypes.DWORD),\n",
    "                (\"wParamL\", wintypes.WORD),\n",
    "                (\"wParamH\", wintypes.WORD))\n",
    "class INPUT(ctypes.Structure):\n",
    "    class _INPUT(ctypes.Union):\n",
    "        _fields_ = ((\"ki\", KEYBDINPUT),\n",
    "                    (\"mi\", MOUSEINPUT),\n",
    "                    (\"hi\", HARDWAREINPUT))\n",
    "    _anonymous_ = (\"_input\",)\n",
    "    _fields_ = ((\"type\",   wintypes.DWORD),\n",
    "                (\"_input\", _INPUT))\n",
    "LPINPUT = ctypes.POINTER(INPUT)\n",
    "def PressKey(hexKeyCode, y=None):\n",
    "    x = INPUT(type=INPUT_KEYBOARD,\n",
    "              ki=KEYBDINPUT(wVk=hexKeyCode))\n",
    "    user32.SendInput(1, ctypes.byref(x), ctypes.sizeof(x))\n",
    "    if y != None:\n",
    "        y = INPUT(type=INPUT_KEYBOARD,\n",
    "              ki=KEYBDINPUT(wVk=y))\n",
    "        user32.SendInput(1, ctypes.byref(y), ctypes.sizeof(y))\n",
    "def ReleaseKey(hexKeyCode, y=None):\n",
    "    x = INPUT(type=INPUT_KEYBOARD,\n",
    "              ki=KEYBDINPUT(wVk=hexKeyCode,\n",
    "                            dwFlags=KEYEVENTF_KEYUP))\n",
    "    user32.SendInput(1, ctypes.byref(x), ctypes.sizeof(x))\n",
    "    if y != None:\n",
    "        y = INPUT(type=INPUT_KEYBOARD,\n",
    "              ki=KEYBDINPUT(wVk=y, dwFlags=KEYEVENTF_KEYUP))\n",
    "        user32.SendInput(1, ctypes.byref(y), ctypes.sizeof(y))\n",
    "\n",
    "def EnterKey(keyinput):\n",
    "    key1 = pred_classes[keyinput][0]\n",
    "    key2 = pred_classes[keyinput][1]\n",
    "    if keyinput != idle:\n",
    "        PressKey(key1, key2) #start\n",
    "        time.sleep(0.1)\n",
    "        ReleaseKey(key1, key2)\n",
    "    \n",
    "    # you can change 0x30 to any key you want. For more info look at :\n",
    "    # msdn.microsoft.com/en-us/library/dd375731\n"
   ]
  },
  {
   "cell_type": "code",
   "execution_count": 21,
   "metadata": {},
   "outputs": [],
   "source": [
    "def preprocessing(frame):\n",
    "    # 사이즈 조정\n",
    "    #size = (257, 257)\n",
    "    #frame_resized = cv.resize(frame, size, interpolation=cv.INTER_AREA)\n",
    "    \n",
    "    # 이미지 정규화\n",
    "    frame_normalized = (frame.astype(np.float32) / 127.0) - 1\n",
    "    #frame_reshaped = frame_normalized.reshape((1, 257, 257, 3))\n",
    "    frame_pred = prediction(frame_normalized)\n",
    "    # 이미지 차원 재조정 - 예측을 위해 reshape 해줍니다.\n",
    "    \n",
    "    \n",
    "    return frame_pred"
   ]
  },
  {
   "cell_type": "markdown",
   "metadata": {},
   "source": [
    "# Run Cam and predict *infer"
   ]
  },
  {
   "cell_type": "code",
   "execution_count": 22,
   "metadata": {},
   "outputs": [
    {
     "name": "stdout",
     "output_type": "stream",
     "text": [
      "0000000000000110000000000000000001111100000000000000"
     ]
    }
   ],
   "source": [
    "# 카메라 캡쳐 객체, 0=내장 카메라\n",
    "capture = cv.VideoCapture(0)\n",
    "\n",
    "# 캡쳐 프레임 사이즈 조절, 버퍼, FPS 설정\n",
    "capture.set(cv.CAP_PROP_FRAME_WIDTH, 257)\n",
    "capture.set(cv.CAP_PROP_FRAME_HEIGHT, 257)\n",
    "capture.set(cv.CAP_PROP_FPS, 30)\n",
    "\n",
    "# 변수 초기화\n",
    "pred_class = None\n",
    "repeat_count = 0\n",
    "pred_count = 0\n",
    "\n",
    "# 예측 확정 시간 설정\n",
    "repeat_num = 2\n",
    "\n",
    "# 예측 주기 설정\n",
    "pred_num = 2\n",
    "\n",
    "\n",
    "while True:\n",
    "    ret, frame = capture.read()\n",
    "    #if ret == True: \n",
    "    #    print(\"read success!\")\n",
    "\n",
    "    # 이미지 뒤집기\n",
    "    frame_fliped = cv.flip(frame, 1)\n",
    "    \n",
    "    # 이미지 출력\n",
    "    cv.imshow(\"VideoFrame\", frame_fliped)\n",
    "    #plt.imshow(frame_fliped, cmap = 'gray', interpolation = 'bicubic')\n",
    "    #plt.xticks([]), plt.yticks([])  # to hide tick values on X and Y axis\n",
    "    #plt.show()\n",
    "    \n",
    "  \n",
    "    if cv.waitKey(1) == 27: #esc 눌러서 끄기        \n",
    "        break\n",
    "    \n",
    "    # 데이터 전처리\n",
    "    preprocessed = prediction(frame_fliped)\n",
    "\n",
    "    # 예측\n",
    "    pred_count = pred_count + 1\n",
    "    if pred_count % pred_num:\n",
    "        b_pred_class = pred_class\n",
    "        pred = model.predict(preprocessed)\n",
    "        pred_class = int(np.argmax(pred, axis=-1))\n",
    "        print(pred_class, end='')\n",
    "        \n",
    "        if b_pred_class == pred_class:\n",
    "            repeat_count = repeat_count + 1\n",
    "            if repeat_count % repeat_num:\n",
    "                EnterKey(pred_class)\n",
    "                \n",
    "        else:\n",
    "            count = 0\n",
    "           \n",
    "    \n",
    "# 카메라 객체 반환\n",
    "capture.release() \n",
    "# 화면에 나타난 윈도우들을 종료\n",
    "cv.destroyAllWindows()"
   ]
  },
  {
   "cell_type": "markdown",
   "metadata": {},
   "source": [
    "## Change allocated keys to pose or add second key simultanous press"
   ]
  },
  {
   "cell_type": "code",
   "execution_count": 23,
   "metadata": {},
   "outputs": [
    {
     "name": "stdout",
     "output_type": "stream",
     "text": [
      "[(191, None), (47, None), (81, None), (90, None)]\n"
     ]
    }
   ],
   "source": [
    "#현재 등록된 클래스(포즈)\n",
    "print(pred_classes)"
   ]
  },
  {
   "cell_type": "code",
   "execution_count": 24,
   "metadata": {},
   "outputs": [
    {
     "name": "stdout",
     "output_type": "stream",
     "text": [
      "['0xbf', '0x2f', '0x51', '0x5a']\n"
     ]
    }
   ],
   "source": [
    "# https://docs.microsoft.com/en-us/windows/win32/inputdev/virtual-key-codes\n",
    "# 위 링크를 참고하여 키의 hex 코드 파악하여 직접 pred_classes에 바꿔치기\n",
    "# 0x41 = a, 0x42 b 등등. 밑에는 포즈에 등록된 키가 뭔지 다시 파악하려면 실행\n",
    "back_to_hex = [hex(pred_classes[i][0]) for i in range(len(pred_classes))]\n",
    "print(back_to_hex)"
   ]
  },
  {
   "cell_type": "code",
   "execution_count": 29,
   "metadata": {},
   "outputs": [
    {
     "data": {
      "text/plain": [
       "'Z'"
      ]
     },
     "execution_count": 29,
     "metadata": {},
     "output_type": "execute_result"
    }
   ],
   "source": [
    "chr(0x5a)"
   ]
  },
  {
   "cell_type": "code",
   "execution_count": 16,
   "metadata": {},
   "outputs": [
    {
     "ename": "NameError",
     "evalue": "name 'char2key' is not defined",
     "output_type": "error",
     "traceback": [
      "\u001b[1;31m---------------------------------------------------------------------------\u001b[0m",
      "\u001b[1;31mNameError\u001b[0m                                 Traceback (most recent call last)",
      "\u001b[1;32m<ipython-input-16-60049a1bbe05>\u001b[0m in \u001b[0;36m<module>\u001b[1;34m\u001b[0m\n\u001b[0;32m      1\u001b[0m \u001b[1;31m# 아래 method로 원하는 키의 ascii 코드를 파악해도 됨.\u001b[0m\u001b[1;33m\u001b[0m\u001b[1;33m\u001b[0m\u001b[0m\n\u001b[1;32m----> 2\u001b[1;33m \u001b[0mchar2key\u001b[0m\u001b[1;33m(\u001b[0m\u001b[1;34m'0x7b'\u001b[0m\u001b[1;33m)\u001b[0m\u001b[1;33m\u001b[0m\u001b[0m\n\u001b[0m",
      "\u001b[1;31mNameError\u001b[0m: name 'char2key' is not defined"
     ]
    }
   ],
   "source": [
    "# 아래 method로 원하는 키의 ascii 코드를 파악해도 됨.\n",
    "char2key('0x7b')"
   ]
  },
  {
   "cell_type": "code",
   "execution_count": 31,
   "metadata": {},
   "outputs": [
    {
     "data": {
      "text/plain": [
       "'위에서 뽑은 입력 리스트를 복사해서, \\nNone을 원하는 키로 바꾸고 실행 시 동시(순차) 입력됨 \\n예를 들어 (65, 50)으로 바꾸면 a, 2를 입력하는 것과 같은 효과'"
      ]
     },
     "execution_count": 31,
     "metadata": {},
     "output_type": "execute_result"
    }
   ],
   "source": [
    "'''위에서 뽑은 입력 리스트를 복사해서, \n",
    "None을 원하는 키로 바꾸고 실행 시 동시(순차) 입력됨 \n",
    "예를 들어 (65, 50)으로 바꾸면 a, 2를 입력하는 것과 같은 효과'''\n",
    "# pred_classes = [(81, 0x01), (66, None)]\n"
   ]
  },
  {
   "cell_type": "code",
   "execution_count": null,
   "metadata": {},
   "outputs": [],
   "source": []
  }
 ],
 "metadata": {
  "colab": {
   "collapsed_sections": [
    "cVwtNDap-ZeZ",
    "0mrIuPeYthAA"
   ],
   "name": "pose_matching_with_PoseNet.ipynb",
   "provenance": [],
   "toc_visible": true
  },
  "kernelspec": {
   "display_name": "Python 3",
   "language": "python",
   "name": "python3"
  },
  "language_info": {
   "codemirror_mode": {
    "name": "ipython",
    "version": 3
   },
   "file_extension": ".py",
   "mimetype": "text/x-python",
   "name": "python",
   "nbconvert_exporter": "python",
   "pygments_lexer": "ipython3",
   "version": "3.7.0"
  }
 },
 "nbformat": 4,
 "nbformat_minor": 1
}
